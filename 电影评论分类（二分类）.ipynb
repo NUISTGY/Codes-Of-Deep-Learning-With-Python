{
 "cells": [
  {
   "cell_type": "code",
   "execution_count": 6,
   "metadata": {},
   "outputs": [
    {
     "name": "stdout",
     "output_type": "stream",
     "text": [
      "Train on 15000 samples, validate on 10000 samples\n",
      "Epoch 1/4\n",
      "15000/15000 [==============================] - 3s 227us/step - loss: 0.4865 - acc: 0.7894 - val_loss: 0.3457 - val_acc: 0.8803\n",
      "Epoch 2/4\n",
      "15000/15000 [==============================] - 3s 180us/step - loss: 0.2794 - acc: 0.9030 - val_loss: 0.2887 - val_acc: 0.8898\n",
      "Epoch 3/4\n",
      "15000/15000 [==============================] - 3s 180us/step - loss: 0.1991 - acc: 0.9313 - val_loss: 0.3442 - val_acc: 0.8570\n",
      "Epoch 4/4\n",
      "15000/15000 [==============================] - 3s 173us/step - loss: 0.1601 - acc: 0.9457 - val_loss: 0.2920 - val_acc: 0.8828\n"
     ]
    }
   ],
   "source": [
    "import numpy as np\n",
    "from keras.datasets import imdb\n",
    "\n",
    "(train_data,train_labels),(test_data,test_labels)=imdb.load_data(num_words=10000)\n",
    "\n",
    "def vectorize_sequences(sequences,dimension=10000):\n",
    "    results=np.zeros((len(sequences),dimension))\n",
    "    for i,sequence in enumerate(sequences):\n",
    "        results[i,sequence]=1.\n",
    "    return results\n",
    "\n",
    "x_train=vectorize_sequences(train_data)\n",
    "x_test=vectorize_sequences(test_data)\n",
    "\n",
    "y_train=np.asarray(train_labels).astype('float32')\n",
    "y_test=np.asarray(test_labels).astype('float32')\n",
    "\n",
    "from keras import models\n",
    "from keras import layers\n",
    "\n",
    "model=models.Sequential()\n",
    "model.add(layers.Dense(32,activation='relu',input_shape=(10000,)))\n",
    "model.add(layers.Dense(16,activation='relu'))\n",
    "model.add(layers.Dense(1,activation='sigmoid'))\n",
    "\n",
    "x_val=x_train[:10000]\n",
    "partial_x_train=x_train[10000:]\n",
    "\n",
    "y_val=y_train[:10000]\n",
    "partial_y_train=y_train[10000:]\n",
    "\n",
    "model.compile(optimizer='rmsprop',\n",
    "             loss='binary_crossentropy',\n",
    "             metrics=['acc'])\n",
    "\n",
    "history=model.fit(partial_x_train,\n",
    "                 partial_y_train,\n",
    "                 epochs=4,\n",
    "                 batch_size=512,\n",
    "                 validation_data=(x_val,y_val))\n",
    "\n"
   ]
  },
  {
   "cell_type": "code",
   "execution_count": 24,
   "metadata": {},
   "outputs": [
    {
     "name": "stdout",
     "output_type": "stream",
     "text": [
      "[[0. 1. 2. 0. 0. 0. 0.]\n",
      " [0. 0. 0. 3. 4. 0. 0.]\n",
      " [0. 0. 0. 0. 0. 5. 6.]]\n"
     ]
    }
   ],
   "source": [
    "import numpy as np\n",
    "res=np.zeros((3,7))\n",
    "list=[[1,2],[3,4],[5,6]]\n",
    "for i,val in enumerate(list):\n",
    "    res[i,val]=val\n",
    "print(res)"
   ]
  },
  {
   "cell_type": "code",
   "execution_count": null,
   "metadata": {},
   "outputs": [],
   "source": []
  }
 ],
 "metadata": {
  "kernelspec": {
   "display_name": "Python 3",
   "language": "python",
   "name": "python3"
  },
  "language_info": {
   "codemirror_mode": {
    "name": "ipython",
    "version": 3
   },
   "file_extension": ".py",
   "mimetype": "text/x-python",
   "name": "python",
   "nbconvert_exporter": "python",
   "pygments_lexer": "ipython3",
   "version": "3.6.4"
  }
 },
 "nbformat": 4,
 "nbformat_minor": 2
}
